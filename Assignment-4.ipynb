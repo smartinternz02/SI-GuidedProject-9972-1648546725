{
 "cells": [
  {
   "cell_type": "markdown",
   "id": "e1760eb7",
   "metadata": {},
   "source": [
    "# Here we are going to create a Convolution Neural Network(CNN) model on Car Images Dataset which is used to predict cars of seven category i.e Audi,Hyundai Creta,Mahindra Scorpio,Rolls Royce,Maruti Suzuki Swift,Tata Safari and Toyota Innova."
   ]
  },
  {
   "cell_type": "markdown",
   "id": "734587e8",
   "metadata": {},
   "source": [
    "# Why CNN?"
   ]
  },
  {
   "cell_type": "markdown",
   "id": "ad78e382",
   "metadata": {},
   "source": [
    "As we know that image classification involves extraction of features from the image to observe some patterns in the dataset. The CNN follows a hierarchical model which works on building a network, like a funnel, and finally gives out a fully-connected layer(dense layer) where all the neurons are connected to each other and the output is processed.CNNs are very effective in reducing the number of parameters without losing on the quality of models. Images have high dimensionality (as each pixel is considered as a feature) which suits the above described abilities of CNNs.In CNN dimensionalty reduction is achieved using a sliding window with a size less than that of the input matrix."
   ]
  },
  {
   "cell_type": "code",
   "execution_count": 1,
   "id": "14a4bfe2",
   "metadata": {},
   "outputs": [],
   "source": [
    "from tensorflow.keras.preprocessing.image import ImageDataGenerator\n",
    "import numpy as np \n",
    "import pandas as pd \n",
    "\n",
    "IMG_SIZE=128"
   ]
  },
  {
   "cell_type": "markdown",
   "id": "5b7d6595",
   "metadata": {},
   "source": [
    "# Importing data into tensorflow dataset object"
   ]
  },
  {
   "cell_type": "markdown",
   "id": "6c184ed4",
   "metadata": {},
   "source": [
    "# Lets we understand what ImageDataGenerator do..."
   ]
  },
  {
   "cell_type": "markdown",
   "id": "fc5ac812",
   "metadata": {},
   "source": [
    "This will run through image data and apply random transformations to each individual image as it is passed to the model so that it never sees the exact same image twice during training.\n",
    "The benefit here is that the model will become more robust as it trains on images that are slightly distorted, and it helps to prevent the model from learning noise in the data such as where features are located in the image."
   ]
  },
  {
   "cell_type": "code",
   "execution_count": 2,
   "id": "cd429389",
   "metadata": {},
   "outputs": [],
   "source": [
    "train_data = ImageDataGenerator(rescale=1./255,rotation_range=10,horizontal_flip=True)"
   ]
  },
  {
   "cell_type": "code",
   "execution_count": 3,
   "id": "c1e508b4",
   "metadata": {},
   "outputs": [],
   "source": [
    "test_data = ImageDataGenerator(rescale=1./255,rotation_range=1,horizontal_flip=True)"
   ]
  },
  {
   "cell_type": "code",
   "execution_count": 4,
   "id": "5ef4435f",
   "metadata": {},
   "outputs": [
    {
     "name": "stdout",
     "output_type": "stream",
     "text": [
      "Found 3352 images belonging to 7 classes.\n"
     ]
    }
   ],
   "source": [
    "x_train=train_datagen.flow_from_directory(r'E:\\archive\\Cars Dataset\\train',target_size=(IMG_SIZE,IMG_SIZE),class_mode='sparse',batch_size=100)"
   ]
  },
  {
   "cell_type": "code",
   "execution_count": 5,
   "id": "9ead1d8b",
   "metadata": {},
   "outputs": [
    {
     "data": {
      "text/plain": [
       "34"
      ]
     },
     "execution_count": 5,
     "metadata": {},
     "output_type": "execute_result"
    }
   ],
   "source": [
    "len(x_train)"
   ]
  },
  {
   "cell_type": "code",
   "execution_count": 6,
   "id": "ec1ce158",
   "metadata": {},
   "outputs": [
    {
     "name": "stdout",
     "output_type": "stream",
     "text": [
      "Found 813 images belonging to 7 classes.\n"
     ]
    }
   ],
   "source": [
    "x_test = test_data.flow_from_directory(r'C:\\cars data',target_size=(IMG_SIZE,IMG_SIZE),class_mode='sparse',batch_size=100)"
   ]
  },
  {
   "cell_type": "code",
   "execution_count": 7,
   "id": "0acdbfda",
   "metadata": {},
   "outputs": [
    {
     "data": {
      "text/plain": [
       "9"
      ]
     },
     "execution_count": 7,
     "metadata": {},
     "output_type": "execute_result"
    }
   ],
   "source": [
    "len(x_test)"
   ]
  },
  {
   "cell_type": "code",
   "execution_count": 8,
   "id": "7c615eb5",
   "metadata": {},
   "outputs": [
    {
     "data": {
      "text/plain": [
       "{'Audi': 0,\n",
       " 'Hyundai Creta': 1,\n",
       " 'Mahindra Scorpio': 2,\n",
       " 'Rolls Royce': 3,\n",
       " 'Swift': 4,\n",
       " 'Tata Safari': 5,\n",
       " 'Toyota Innova': 6}"
      ]
     },
     "execution_count": 8,
     "metadata": {},
     "output_type": "execute_result"
    }
   ],
   "source": [
    "x_train.class_indices"
   ]
  },
  {
   "cell_type": "markdown",
   "id": "be3c1423",
   "metadata": {},
   "source": [
    "# Creating the CNN model"
   ]
  },
  {
   "cell_type": "markdown",
   "id": "ffe4ead4",
   "metadata": {},
   "source": [
    "# How to stack up layers?"
   ]
  },
  {
   "cell_type": "markdown",
   "id": "d509500c",
   "metadata": {},
   "source": [
    "There are three types of layers that make up the CNN which are the convolutional layers, pooling layers, and fully-connected layers. When these layers are stacked, a CNN architecture will be formed.\n",
    "Convolution->Relu->Pooling->Convolution->Relu->Pooling->Flattening->Fully Connected layer\n",
    "\n",
    "CNN Layer-This layer is the first layer that is used to extract the various features from the input images.\n",
    "\n",
    "Pooling layer-It is to decrease the size of the convolved feature map to reduce the computational costs. This is performed by decreasing the connections between layers and independently operates on each feature map.\n",
    "\n",
    "Fully Connected layer-It consists of the weights and biases along with the neurons and is used to connect the neurons between two different layers.\n",
    "\n",
    "Dropout-To overcome overfitting problem, a dropout layer is utilised wherein a few neurons are dropped from the neural network during training process resulting in reduced size of the model.\n",
    "\n",
    "Relu Activation Function-It decides which information of the model should be send in the forward direction and which ones should not at the end of the network."
   ]
  },
  {
   "cell_type": "code",
   "execution_count": 9,
   "id": "becd8917",
   "metadata": {},
   "outputs": [],
   "source": [
    "from tensorflow.keras.models import Sequential\n",
    "from tensorflow.keras.layers import Convolution2D,MaxPooling2D,Flatten,Dense\n",
    "sz = 128"
   ]
  },
  {
   "cell_type": "code",
   "execution_count": 10,
   "id": "87975e25",
   "metadata": {},
   "outputs": [],
   "source": [
    "car_model=Sequential()"
   ]
  },
  {
   "cell_type": "code",
   "execution_count": 11,
   "id": "741ed6a3",
   "metadata": {},
   "outputs": [],
   "source": [
    "car_model.add(Convolution2D(32,(3,3),activation='relu',input_shape=(sz,sz,3)))"
   ]
  },
  {
   "cell_type": "code",
   "execution_count": 12,
   "id": "41f6d7e5",
   "metadata": {},
   "outputs": [],
   "source": [
    "car_model.add(MaxPooling2D(pool_size=(2,2)))"
   ]
  },
  {
   "cell_type": "code",
   "execution_count": 13,
   "id": "c6dd04c4",
   "metadata": {},
   "outputs": [],
   "source": [
    "car_model.add(Convolution2D(32, (3, 3), activation='relu'))"
   ]
  },
  {
   "cell_type": "code",
   "execution_count": 14,
   "id": "6e7e26a8",
   "metadata": {},
   "outputs": [],
   "source": [
    "car_model.add(MaxPooling2D(pool_size=(2, 2)))"
   ]
  },
  {
   "cell_type": "code",
   "execution_count": 15,
   "id": "8be579a0",
   "metadata": {},
   "outputs": [],
   "source": [
    "car_model.add(Flatten())"
   ]
  },
  {
   "cell_type": "code",
   "execution_count": 16,
   "id": "d727dabb",
   "metadata": {},
   "outputs": [],
   "source": [
    "car_model.add(Dense(units=96, activation='relu'))\n",
    "car_model.add(Dense(units=32, activation='relu'))\n",
    "car_model.add(Dense(units=7, activation='softmax'))"
   ]
  },
  {
   "cell_type": "code",
   "execution_count": 17,
   "id": "ef45bfe2",
   "metadata": {},
   "outputs": [
    {
     "name": "stdout",
     "output_type": "stream",
     "text": [
      "Model: \"sequential\"\n",
      "_________________________________________________________________\n",
      " Layer (type)                Output Shape              Param #   \n",
      "=================================================================\n",
      " conv2d (Conv2D)             (None, 126, 126, 32)      896       \n",
      "                                                                 \n",
      " max_pooling2d (MaxPooling2D  (None, 63, 63, 32)       0         \n",
      " )                                                               \n",
      "                                                                 \n",
      " conv2d_1 (Conv2D)           (None, 61, 61, 32)        9248      \n",
      "                                                                 \n",
      " max_pooling2d_1 (MaxPooling  (None, 30, 30, 32)       0         \n",
      " 2D)                                                             \n",
      "                                                                 \n",
      " flatten (Flatten)           (None, 28800)             0         \n",
      "                                                                 \n",
      " dense (Dense)               (None, 96)                2764896   \n",
      "                                                                 \n",
      " dense_1 (Dense)             (None, 32)                3104      \n",
      "                                                                 \n",
      " dense_2 (Dense)             (None, 7)                 231       \n",
      "                                                                 \n",
      "=================================================================\n",
      "Total params: 2,778,375\n",
      "Trainable params: 2,778,375\n",
      "Non-trainable params: 0\n",
      "_________________________________________________________________\n"
     ]
    }
   ],
   "source": [
    "car_model.summary()"
   ]
  },
  {
   "cell_type": "code",
   "execution_count": 23,
   "id": "bba135d8",
   "metadata": {},
   "outputs": [],
   "source": [
    "car_model.compile(loss='sparse_categorical_crossentropy',optimizer='adam',metrics=['accuracy'])"
   ]
  },
  {
   "cell_type": "code",
   "execution_count": 24,
   "id": "cd11f46d",
   "metadata": {},
   "outputs": [
    {
     "name": "stderr",
     "output_type": "stream",
     "text": [
      "<ipython-input-24-0710b97425cf>:1: UserWarning: `Model.fit_generator` is deprecated and will be removed in a future version. Please use `Model.fit`, which supports generators.\n",
      "  model_car.fit_generator(x_train,steps_per_epoch=len(x_train),epochs=50,validation_data=x_test,validation_steps=len(x_test))\n"
     ]
    },
    {
     "name": "stdout",
     "output_type": "stream",
     "text": [
      "Epoch 1/50\n",
      "34/34 [==============================] - 65s 2s/step - loss: 1.9771 - accuracy: 0.2405 - val_loss: 1.8552 - val_accuracy: 0.2583\n",
      "Epoch 2/50\n",
      "34/34 [==============================] - 63s 2s/step - loss: 1.7964 - accuracy: 0.3088 - val_loss: 1.6864 - val_accuracy: 0.3739\n",
      "Epoch 3/50\n",
      "34/34 [==============================] - 65s 2s/step - loss: 1.6093 - accuracy: 0.4218 - val_loss: 1.5614 - val_accuracy: 0.4194\n",
      "Epoch 4/50\n",
      "34/34 [==============================] - 65s 2s/step - loss: 1.4489 - accuracy: 0.4824 - val_loss: 1.4665 - val_accuracy: 0.4502\n",
      "Epoch 5/50\n",
      "34/34 [==============================] - 62s 2s/step - loss: 1.3153 - accuracy: 0.5325 - val_loss: 1.3353 - val_accuracy: 0.5301\n",
      "Epoch 6/50\n",
      "34/34 [==============================] - 63s 2s/step - loss: 1.1688 - accuracy: 0.5946 - val_loss: 1.2828 - val_accuracy: 0.5658\n",
      "Epoch 7/50\n",
      "34/34 [==============================] - 62s 2s/step - loss: 1.0810 - accuracy: 0.6301 - val_loss: 1.1944 - val_accuracy: 0.5879\n",
      "Epoch 8/50\n",
      "34/34 [==============================] - 63s 2s/step - loss: 0.9936 - accuracy: 0.6516 - val_loss: 1.1920 - val_accuracy: 0.6162\n",
      "Epoch 9/50\n",
      "34/34 [==============================] - 63s 2s/step - loss: 0.9494 - accuracy: 0.6730 - val_loss: 1.1903 - val_accuracy: 0.5966\n",
      "Epoch 10/50\n",
      "34/34 [==============================] - 63s 2s/step - loss: 0.8511 - accuracy: 0.7112 - val_loss: 1.1177 - val_accuracy: 0.6310\n",
      "Epoch 11/50\n",
      "34/34 [==============================] - 62s 2s/step - loss: 0.7947 - accuracy: 0.7372 - val_loss: 1.1012 - val_accuracy: 0.6175\n",
      "Epoch 12/50\n",
      "34/34 [==============================] - 61s 2s/step - loss: 0.7263 - accuracy: 0.7566 - val_loss: 1.1023 - val_accuracy: 0.6187\n",
      "Epoch 13/50\n",
      "34/34 [==============================] - 62s 2s/step - loss: 0.6818 - accuracy: 0.7688 - val_loss: 1.1450 - val_accuracy: 0.6359\n",
      "Epoch 14/50\n",
      "34/34 [==============================] - 66s 2s/step - loss: 0.6501 - accuracy: 0.7843 - val_loss: 1.1608 - val_accuracy: 0.6273\n",
      "Epoch 15/50\n",
      "34/34 [==============================] - 67s 2s/step - loss: 0.5874 - accuracy: 0.8109 - val_loss: 1.1218 - val_accuracy: 0.6470\n",
      "Epoch 16/50\n",
      "34/34 [==============================] - 66s 2s/step - loss: 0.5126 - accuracy: 0.8294 - val_loss: 1.1076 - val_accuracy: 0.6630\n",
      "Epoch 17/50\n",
      "34/34 [==============================] - 66s 2s/step - loss: 0.4807 - accuracy: 0.8446 - val_loss: 1.1411 - val_accuracy: 0.6691\n",
      "Epoch 18/50\n",
      "34/34 [==============================] - 65s 2s/step - loss: 0.4450 - accuracy: 0.8568 - val_loss: 1.1917 - val_accuracy: 0.6654\n",
      "Epoch 19/50\n",
      "34/34 [==============================] - 65s 2s/step - loss: 0.4359 - accuracy: 0.8559 - val_loss: 1.1144 - val_accuracy: 0.6753\n",
      "Epoch 20/50\n",
      "34/34 [==============================] - 64s 2s/step - loss: 0.3856 - accuracy: 0.8759 - val_loss: 1.1405 - val_accuracy: 0.6913\n",
      "Epoch 21/50\n",
      "34/34 [==============================] - 69s 2s/step - loss: 0.3646 - accuracy: 0.8851 - val_loss: 1.2077 - val_accuracy: 0.6753\n",
      "Epoch 22/50\n",
      "34/34 [==============================] - 69s 2s/step - loss: 0.3323 - accuracy: 0.8941 - val_loss: 1.2232 - val_accuracy: 0.6716\n",
      "Epoch 23/50\n",
      "34/34 [==============================] - 61s 2s/step - loss: 0.3454 - accuracy: 0.8813 - val_loss: 1.1889 - val_accuracy: 0.6790\n",
      "Epoch 24/50\n",
      "34/34 [==============================] - 61s 2s/step - loss: 0.3028 - accuracy: 0.9018 - val_loss: 1.2914 - val_accuracy: 0.6482\n",
      "Epoch 25/50\n",
      "34/34 [==============================] - 61s 2s/step - loss: 0.2612 - accuracy: 0.9159 - val_loss: 1.3373 - val_accuracy: 0.6494\n",
      "Epoch 26/50\n",
      "34/34 [==============================] - 61s 2s/step - loss: 0.2479 - accuracy: 0.9227 - val_loss: 1.2787 - val_accuracy: 0.6777\n",
      "Epoch 27/50\n",
      "34/34 [==============================] - 61s 2s/step - loss: 0.2277 - accuracy: 0.9296 - val_loss: 1.2813 - val_accuracy: 0.6950\n",
      "Epoch 28/50\n",
      "34/34 [==============================] - 60s 2s/step - loss: 0.2142 - accuracy: 0.9374 - val_loss: 1.3926 - val_accuracy: 0.6888\n",
      "Epoch 29/50\n",
      "34/34 [==============================] - 60s 2s/step - loss: 0.1906 - accuracy: 0.9382 - val_loss: 1.3760 - val_accuracy: 0.6814\n",
      "Epoch 30/50\n",
      "34/34 [==============================] - 60s 2s/step - loss: 0.1901 - accuracy: 0.9379 - val_loss: 1.3633 - val_accuracy: 0.6765\n",
      "Epoch 31/50\n",
      "34/34 [==============================] - 60s 2s/step - loss: 0.1973 - accuracy: 0.9388 - val_loss: 1.3195 - val_accuracy: 0.7122\n",
      "Epoch 32/50\n",
      "34/34 [==============================] - 60s 2s/step - loss: 0.1654 - accuracy: 0.9445 - val_loss: 1.3587 - val_accuracy: 0.6728\n",
      "Epoch 33/50\n",
      "34/34 [==============================] - 61s 2s/step - loss: 0.1430 - accuracy: 0.9582 - val_loss: 1.4367 - val_accuracy: 0.6888\n",
      "Epoch 34/50\n",
      "34/34 [==============================] - 61s 2s/step - loss: 0.1317 - accuracy: 0.9594 - val_loss: 1.5196 - val_accuracy: 0.6827\n",
      "Epoch 35/50\n",
      "34/34 [==============================] - 60s 2s/step - loss: 0.1233 - accuracy: 0.9591 - val_loss: 1.4219 - val_accuracy: 0.6888\n",
      "Epoch 36/50\n",
      "34/34 [==============================] - 60s 2s/step - loss: 0.1172 - accuracy: 0.9636 - val_loss: 1.5363 - val_accuracy: 0.6556\n",
      "Epoch 37/50\n",
      "34/34 [==============================] - 61s 2s/step - loss: 0.1168 - accuracy: 0.9618 - val_loss: 1.4525 - val_accuracy: 0.6925\n",
      "Epoch 38/50\n",
      "34/34 [==============================] - 60s 2s/step - loss: 0.1101 - accuracy: 0.9636 - val_loss: 1.4850 - val_accuracy: 0.6962\n",
      "Epoch 39/50\n",
      "34/34 [==============================] - 60s 2s/step - loss: 0.1159 - accuracy: 0.9639 - val_loss: 1.6041 - val_accuracy: 0.6777\n",
      "Epoch 40/50\n",
      "34/34 [==============================] - 60s 2s/step - loss: 0.1037 - accuracy: 0.9648 - val_loss: 1.5983 - val_accuracy: 0.6765\n",
      "Epoch 41/50\n",
      "34/34 [==============================] - 61s 2s/step - loss: 0.0983 - accuracy: 0.9717 - val_loss: 1.5757 - val_accuracy: 0.6802\n",
      "Epoch 42/50\n",
      "34/34 [==============================] - 60s 2s/step - loss: 0.0772 - accuracy: 0.9809 - val_loss: 1.6799 - val_accuracy: 0.6802\n",
      "Epoch 43/50\n",
      "34/34 [==============================] - 61s 2s/step - loss: 0.0755 - accuracy: 0.9794 - val_loss: 1.7100 - val_accuracy: 0.7060\n",
      "Epoch 44/50\n",
      "34/34 [==============================] - 60s 2s/step - loss: 0.0908 - accuracy: 0.9740 - val_loss: 1.6280 - val_accuracy: 0.6986\n",
      "Epoch 45/50\n",
      "34/34 [==============================] - 61s 2s/step - loss: 0.0796 - accuracy: 0.9755 - val_loss: 1.6386 - val_accuracy: 0.6863\n",
      "Epoch 46/50\n",
      "34/34 [==============================] - 61s 2s/step - loss: 0.0854 - accuracy: 0.9723 - val_loss: 1.6767 - val_accuracy: 0.6937\n",
      "Epoch 47/50\n",
      "34/34 [==============================] - 60s 2s/step - loss: 0.0738 - accuracy: 0.9803 - val_loss: 1.6125 - val_accuracy: 0.7097\n",
      "Epoch 48/50\n",
      "34/34 [==============================] - 61s 2s/step - loss: 0.0669 - accuracy: 0.9806 - val_loss: 1.6833 - val_accuracy: 0.6937\n",
      "Epoch 49/50\n",
      "34/34 [==============================] - 61s 2s/step - loss: 0.0599 - accuracy: 0.9806 - val_loss: 1.6783 - val_accuracy: 0.6986\n",
      "Epoch 50/50\n",
      "34/34 [==============================] - 61s 2s/step - loss: 0.0554 - accuracy: 0.9827 - val_loss: 1.7941 - val_accuracy: 0.6728\n"
     ]
    },
    {
     "data": {
      "text/plain": [
       "<keras.callbacks.History at 0x2c2b58b9f40>"
      ]
     },
     "execution_count": 24,
     "metadata": {},
     "output_type": "execute_result"
    }
   ],
   "source": [
    "car_model.fit_generator(x_train,steps_per_epoch=len(x_train),epochs=50,validation_data=x_test,validation_steps=len(x_test))"
   ]
  },
  {
   "cell_type": "code",
   "execution_count": 25,
   "id": "2649e9e3",
   "metadata": {},
   "outputs": [],
   "source": [
    "car_model.save('car.h5')"
   ]
  },
  {
   "cell_type": "code",
   "execution_count": 26,
   "id": "143c2433",
   "metadata": {},
   "outputs": [],
   "source": [
    "import numpy as np\n",
    "from tensorflow.keras.models import load_model\n",
    "from tensorflow.keras.preprocessing import image"
   ]
  },
  {
   "cell_type": "code",
   "execution_count": 27,
   "id": "f0c4554c",
   "metadata": {},
   "outputs": [],
   "source": [
    "car_model=load_model('car.h5')"
   ]
  },
  {
   "cell_type": "code",
   "execution_count": 29,
   "id": "60bb89b5",
   "metadata": {},
   "outputs": [],
   "source": [
    "img=image.load_img(r'C:\\cars data\\Hyundai Creta\\53.jpg',target_size=(IMG_SIZE,IMG_SIZE))"
   ]
  },
  {
   "cell_type": "code",
   "execution_count": 30,
   "id": "202b9ef3",
   "metadata": {},
   "outputs": [
    {
     "data": {
      "image/png": "[encoded data removed]",
      "text/plain": [
       "<PIL.Image.Image image mode=RGB size=128x128 at 0x2C2B56AB760>"
      ]
     },
     "execution_count": 30,
     "metadata": {},
     "output_type": "execute_result"
    }
   ],
   "source": [
    "img"
   ]
  },
  {
   "cell_type": "code",
   "execution_count": 31,
   "id": "a82cc9d2",
   "metadata": {},
   "outputs": [],
   "source": [
    "x=image.img_to_array(img)"
   ]
  },
  {
   "cell_type": "code",
   "execution_count": 32,
   "id": "560dc6f6",
   "metadata": {},
   "outputs": [
    {
     "data": {
      "text/plain": [
       "array([[[178., 184., 184.],\n",
       "        [188., 193., 189.],\n",
       "        [185., 184., 179.],\n",
       "        ...,\n",
       "        [225., 218., 210.],\n",
       "        [218., 213., 209.],\n",
       "        [217., 213., 210.]],\n",
       "\n",
       "       [[184., 190., 190.],\n",
       "        [192., 197., 193.],\n",
       "        [187., 186., 181.],\n",
       "        ...,\n",
       "        [225., 218., 210.],\n",
       "        [218., 213., 209.],\n",
       "        [217., 213., 210.]],\n",
       "\n",
       "       [[182., 188., 188.],\n",
       "        [190., 195., 191.],\n",
       "        [185., 184., 179.],\n",
       "        ...,\n",
       "        [225., 218., 210.],\n",
       "        [218., 213., 209.],\n",
       "        [217., 213., 210.]],\n",
       "\n",
       "       ...,\n",
       "\n",
       "       [[174., 164., 163.],\n",
       "        [180., 170., 169.],\n",
       "        [177., 167., 166.],\n",
       "        ...,\n",
       "        [146., 134., 134.],\n",
       "        [149., 137., 137.],\n",
       "        [152., 140., 140.]],\n",
       "\n",
       "       [[183., 173., 164.],\n",
       "        [185., 174., 168.],\n",
       "        [156., 145., 139.],\n",
       "        ...,\n",
       "        [148., 132., 133.],\n",
       "        [149., 133., 134.],\n",
       "        [150., 134., 135.]],\n",
       "\n",
       "       [[162., 152., 143.],\n",
       "        [177., 166., 160.],\n",
       "        [169., 158., 152.],\n",
       "        ...,\n",
       "        [148., 132., 133.],\n",
       "        [148., 132., 133.],\n",
       "        [149., 133., 134.]]], dtype=float32)"
      ]
     },
     "execution_count": 32,
     "metadata": {},
     "output_type": "execute_result"
    }
   ],
   "source": [
    "x"
   ]
  },
  {
   "cell_type": "code",
   "execution_count": 33,
   "id": "c3155fca",
   "metadata": {},
   "outputs": [],
   "source": [
    "x=np.expand_dims(x,axis=0)"
   ]
  },
  {
   "cell_type": "code",
   "execution_count": 35,
   "id": "7e0e878b",
   "metadata": {},
   "outputs": [
    {
     "data": {
      "text/plain": [
       "4"
      ]
     },
     "execution_count": 35,
     "metadata": {},
     "output_type": "execute_result"
    }
   ],
   "source": [
    "x.ndim"
   ]
  },
  {
   "cell_type": "code",
   "execution_count": 36,
   "id": "9fb63318",
   "metadata": {},
   "outputs": [],
   "source": [
    "pred=np.argmax(model_car.predict(x),axis=1) #1 = row"
   ]
  },
  {
   "cell_type": "code",
   "execution_count": 37,
   "id": "631250e0",
   "metadata": {},
   "outputs": [
    {
     "data": {
      "text/plain": [
       "array([1], dtype=int64)"
      ]
     },
     "execution_count": 37,
     "metadata": {},
     "output_type": "execute_result"
    }
   ],
   "source": [
    "pred"
   ]
  },
  {
   "cell_type": "code",
   "execution_count": 38,
   "id": "25e2d938",
   "metadata": {},
   "outputs": [
    {
     "name": "stdout",
     "output_type": "stream",
     "text": [
      "Hyundai Creta\n"
     ]
    }
   ],
   "source": [
    "index=['Audi', 'Hyundai Creta', 'Mahindra Scorpio', 'Rolls Royce', 'Swift', 'Tata Safari',\n",
    "'Toyota Innova']\n",
    "print(index[pred[0]])"
   ]
  },
  {
   "cell_type": "code",
   "execution_count": 39,
   "id": "1f43c1ed",
   "metadata": {},
   "outputs": [],
   "source": [
    "import cv2\n",
    "img=cv2.imread(r'C:\\cars data\\Hyundai Creta\\53.jpg',1)"
   ]
  },
  {
   "cell_type": "code",
   "execution_count": 40,
   "id": "826c447d",
   "metadata": {},
   "outputs": [
    {
     "data": {
      "text/plain": [
       "array([[[184, 184, 178],\n",
       "        [190, 192, 186],\n",
       "        [191, 192, 190],\n",
       "        ...,\n",
       "        [209, 213, 218],\n",
       "        [203, 206, 210],\n",
       "        [210, 213, 217]],\n",
       "\n",
       "       [[187, 187, 181],\n",
       "        [192, 194, 188],\n",
       "        [193, 194, 192],\n",
       "        ...,\n",
       "        [209, 213, 218],\n",
       "        [203, 206, 210],\n",
       "        [210, 213, 217]],\n",
       "\n",
       "       [[190, 190, 184],\n",
       "        [195, 197, 191],\n",
       "        [195, 196, 194],\n",
       "        ...,\n",
       "        [209, 213, 218],\n",
       "        [203, 206, 210],\n",
       "        [210, 213, 217]],\n",
       "\n",
       "       ...,\n",
       "\n",
       "       [[168, 172, 183],\n",
       "        [174, 178, 189],\n",
       "        [170, 174, 185],\n",
       "        ...,\n",
       "        [134, 134, 148],\n",
       "        [134, 133, 149],\n",
       "        [135, 135, 149]],\n",
       "\n",
       "       [[134, 140, 151],\n",
       "        [145, 151, 162],\n",
       "        [151, 157, 168],\n",
       "        ...,\n",
       "        [134, 133, 149],\n",
       "        [134, 133, 149],\n",
       "        [135, 134, 150]],\n",
       "\n",
       "       [[145, 151, 162],\n",
       "        [156, 162, 173],\n",
       "        [160, 166, 177],\n",
       "        ...,\n",
       "        [133, 132, 148],\n",
       "        [134, 133, 149],\n",
       "        [134, 133, 149]]], dtype=uint8)"
      ]
     },
     "execution_count": 40,
     "metadata": {},
     "output_type": "execute_result"
    }
   ],
   "source": [
    "img"
   ]
  },
  {
   "cell_type": "code",
   "execution_count": 41,
   "id": "1b9a8790",
   "metadata": {},
   "outputs": [],
   "source": [
    "img1=cv2.imread(r'C:\\cars data\\Hyundai Creta\\53.jpg',0)"
   ]
  },
  {
   "cell_type": "code",
   "execution_count": 42,
   "id": "2e3a036b",
   "metadata": {},
   "outputs": [
    {
     "data": {
      "text/plain": [
       "array([[182, 190, 191, ..., 214, 207, 214],\n",
       "       [185, 192, 193, ..., 214, 207, 214],\n",
       "       [188, 195, 195, ..., 214, 207, 214],\n",
       "       ...,\n",
       "       [175, 181, 177, ..., 138, 138, 139],\n",
       "       [143, 154, 160, ..., 138, 138, 139],\n",
       "       [154, 165, 169, ..., 137, 138, 138]], dtype=uint8)"
      ]
     },
     "execution_count": 42,
     "metadata": {},
     "output_type": "execute_result"
    }
   ],
   "source": [
    "img1"
   ]
  },
  {
   "cell_type": "code",
   "execution_count": 43,
   "id": "188fc97f",
   "metadata": {},
   "outputs": [],
   "source": [
    "img=cv2.imread(r'C:\\cars data\\Hyundai Creta\\53.jpg',1)\n",
    "cv2.imshow('image',img)\n",
    "cv2.waitKey(0)\n",
    "cv2.destroyAllWindows()"
   ]
  },
  {
   "cell_type": "code",
   "execution_count": 64,
   "id": "ce9bcfdf",
   "metadata": {},
   "outputs": [],
   "source": [
    "import cv2\n",
    "import numpy as np\n",
    "from tensorflow.keras.models import load_model\n",
    "from tensorflow.keras.preprocessing import image\n",
    "model=load_model('car.h5')\n",
    "video=cv2.VideoCapture(0)\n",
    "index=['Audi', 'Hyundai Creta', 'Mahindra Scorpio', 'Rolls Royce', 'Swift', 'Tata Safari',\n",
    "'Toyota Innova']\n",
    "while 1:\n",
    "    succcess,frame=video.read()\n",
    "    cv2.imwrite('image_car.jpg',frame)\n",
    "    img=image.load_img('image_car.jpg',target_size=(128,128))\n",
    "    x=image.img_to_array(img)\n",
    "    x=np.expand_dims(x,axis=0)\n",
    "    pred=np.argmax(model.predict(x),axis=1)\n",
    "    y=pred[0]\n",
    "    cv2.putText(frame,'the predicted car model is: '+str(index[y]),(5,350),cv2.cv2.FONT_HERSHEY_SIMPLEX,0.5, (0, 0, 255), 2)\n",
    "    cv2.imshow('image',frame)\n",
    "    if cv2.waitKey(1) & 0xFF == ord('q'):\n",
    "        break\n",
    "        \n",
    "video.release()\n",
    "cv2.destroyAllWindows()"
   ]
  }
 ],
 "metadata": {
  "kernelspec": {
   "display_name": "Python 3 (ipykernel)",
   "language": "python",
   "name": "python3"
  },
  "language_info": {
   "codemirror_mode": {
    "name": "ipython",
    "version": 3
   },
   "file_extension": ".py",
   "mimetype": "text/x-python",
   "name": "python",
   "nbconvert_exporter": "python",
   "pygments_lexer": "ipython3",
   "version": "3.10.0"
  }
 },
 "nbformat": 4,
 "nbformat_minor": 5
}
